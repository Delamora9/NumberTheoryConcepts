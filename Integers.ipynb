{
 "cells": [
  {
   "cell_type": "code",
   "execution_count": null,
   "id": "f2f610de",
   "metadata": {},
   "outputs": [],
   "source": [
    "from time import time\n",
    "from math import floor"
   ]
  },
  {
   "cell_type": "markdown",
   "id": "c23530d7",
   "metadata": {},
   "source": [
    "## Division Algorithm.  \n",
    "## For any integer n and positive integer b, there exists unique integers q and r such that n = qb + r and 0 ≤ r < b."
   ]
  },
  {
   "cell_type": "code",
   "execution_count": null,
   "id": "431d8a5f",
   "metadata": {},
   "outputs": [],
   "source": [
    "\n",
    "def division(n, b, runTime=False):\n",
    "    # n is any number ∈ ℤ\n",
    "    # b is the divisor ∈ ℕ\n",
    "    # runTime calculates how long the algorithm ran\n",
    "    # returns r and q (remainder and quotient)\n",
    "    if runTime:\n",
    "        start_time = time()\n",
    "    if b < 0:\n",
    "        print(\"b must be a positive integer\")\n",
    "    else:\n",
    "        q = 0\n",
    "        r = -1\n",
    "        if b > abs(n):\n",
    "            r = abs(n)\n",
    "        while r > b or r == -1:\n",
    "            r = abs(n) - b*(q+1)\n",
    "            q += 1\n",
    "        if r == b:\n",
    "            r = 0\n",
    "            q += 1\n",
    "        if n < 0:\n",
    "            q *= -1\n",
    "            r *= -1\n",
    "        print(\"n = q*b + r\")\n",
    "        print(str(n)+\" = \"+str(q)+\"*\"+str(b)+\" + \"+str(r))\n",
    "        if runTime:\n",
    "            print(\"Took %s seconds\" % (time() - start_time))\n"
   ]
  },
  {
   "cell_type": "code",
   "execution_count": null,
   "id": "a82ce395",
   "metadata": {
    "scrolled": true
   },
   "outputs": [],
   "source": [
    "division(n=123456789107,b=54321,runTime=True)"
   ]
  },
  {
   "cell_type": "markdown",
   "id": "5efef96d",
   "metadata": {},
   "source": [
    "## Theorem. \n",
    "### Let b be any positive integer greater than 1.  \n",
    "### Then every positive integer n can be uniquely written as n=a<sub>k</sub>b<sup>k</sup>+a<sub>k-1</sub>b<sup>k-1</sup>...+a<sub>1</sub>b+a<sub>0</sub> for some nonnegative integer k and integers a<sub>i</sub> such that 0 ≤ a<sub>i</sub> < b for each i = 0, 1, …, k.\n",
    "### We denote this representation by a<sub>k</sub>a<sub>k-1</sub>...a<sub>1</sub>a<sub>0</sub>.\n",
    "### Corollary: Every positive integer can be uniquely written as the sum of distinct powers of 2.  [Not true for b > 2.]"
   ]
  },
  {
   "cell_type": "code",
   "execution_count": null,
   "id": "2579299e",
   "metadata": {},
   "outputs": [],
   "source": [
    "\n",
    "def baseRep(n, b, solve=False, runTime=False):\n",
    "    # n is any number ∈ ℕ\n",
    "    # b is the base ∈ ℕ | 10 > b > 1\n",
    "    # Note: bases higher than 10 require letters to represent digits and therefore are excluded here for scope\n",
    "    # solve adds more steps to show the representation deducded\n",
    "    # runTime calculates how long the algorithm ran\n",
    "    # returns unique representation\n",
    "    if b > 10:\n",
    "        print(\"Please enter a base less than or equal to 10\")\n",
    "        return\n",
    "    if runTime:\n",
    "        start_time = time()\n",
    "    remainders = []\n",
    "    representation = str(n)+\"=\"\n",
    "    base_representation = representation\n",
    "    if solve:\n",
    "        representation2 = representation\n",
    "        representation3 = representation\n",
    "    r = n % b\n",
    "    remainders.append(r)\n",
    "    q = floor(n/b)\n",
    "    while q > 0:\n",
    "        r = q % b\n",
    "        q = floor(q/b)\n",
    "        remainders.insert(0, r)\n",
    "    power = len(remainders)-1\n",
    "    for remainder in remainders:\n",
    "        representation += str(remainder)+\"*\"+str(b)+\"^\"+str(power)\n",
    "        base_representation += str(remainder)\n",
    "        if solve:\n",
    "            b_power = b**power\n",
    "            representation2 += str(remainder)+\"*\"+str(b_power)\n",
    "            representation3 += str(remainder*b_power)\n",
    "        power -= 1\n",
    "        if power >= 0:\n",
    "            representation += \"+\"\n",
    "            if solve:\n",
    "                representation2 += \"+\"\n",
    "                representation3 += \"+\"\n",
    "    print(base_representation+\"(base\"+str(b)+\")\")\n",
    "    print(representation)\n",
    "    if solve:\n",
    "        print(representation2)\n",
    "        print(representation3)\n",
    "    if runTime:\n",
    "        print(\"Took %s seconds\" % (time() - start_time))\n"
   ]
  },
  {
   "cell_type": "code",
   "execution_count": null,
   "id": "8b4fc238",
   "metadata": {
    "scrolled": true
   },
   "outputs": [],
   "source": [
    "baseRep(n=3895,b=19,solve=True,runTime=False)\n",
    "    "
   ]
  },
  {
   "cell_type": "code",
   "execution_count": null,
   "id": "8fbfd795",
   "metadata": {},
   "outputs": [],
   "source": [
    "rep = \"n=1*2\""
   ]
  },
  {
   "cell_type": "code",
   "execution_count": null,
   "id": "6bebe4d7",
   "metadata": {},
   "outputs": [],
   "source": [
    "print(\"2<sup>3</sup>\")"
   ]
  },
  {
   "cell_type": "code",
   "execution_count": null,
   "id": "253bb31c",
   "metadata": {},
   "outputs": [],
   "source": []
  }
 ],
 "metadata": {
  "kernelspec": {
   "display_name": "Python 3 (ipykernel)",
   "language": "python",
   "name": "python3"
  },
  "language_info": {
   "codemirror_mode": {
    "name": "ipython",
    "version": 3
   },
   "file_extension": ".py",
   "mimetype": "text/x-python",
   "name": "python",
   "nbconvert_exporter": "python",
   "pygments_lexer": "ipython3",
   "version": "3.7.4"
  }
 },
 "nbformat": 4,
 "nbformat_minor": 5
}
